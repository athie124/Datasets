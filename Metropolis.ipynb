{
  "nbformat": 4,
  "nbformat_minor": 0,
  "metadata": {
    "colab": {
      "name": "Metropolis.ipynb",
      "provenance": [],
      "include_colab_link": true
    },
    "kernelspec": {
      "display_name": "Python 3",
      "name": "python3"
    },
    "language_info": {
      "name": "python"
    }
  },
  "cells": [
    {
      "cell_type": "markdown",
      "metadata": {
        "id": "view-in-github",
        "colab_type": "text"
      },
      "source": [
        "<a href=\"https://colab.research.google.com/github/athie124/Datasets/blob/master/Metropolis.ipynb\" target=\"_parent\"><img src=\"https://colab.research.google.com/assets/colab-badge.svg\" alt=\"Open In Colab\"/></a>"
      ]
    },
    {
      "cell_type": "code",
      "metadata": {
        "id": "ichJMXZXL91j",
        "colab": {
          "base_uri": "https://localhost:8080/",
          "height": 312
        },
        "outputId": "81ee3f41-9e2a-428b-9dc2-ae64083b7a8e"
      },
      "source": [
        "#here we are importing all of our python libraries\n",
        "import numpy as np\n",
        "import math\n",
        "import matplotlib.pyplot as plt\n",
        "import random\n",
        "random.seed( 10 )\n",
        "#we create are matrix for every 20 datapoints\n",
        "data = np.array([[201,592,61],\n",
        "[244,401,25],\n",
        "[47,583,38],\n",
        "[287,402,15],\n",
        "[203,495,21],\n",
        "[58,173,15],\n",
        "[210,479,27],\n",
        "[202,504,14],\n",
        "[198,510,30],\n",
        "[158,416,16],\n",
        "[165,393,14],\n",
        "[201,442,25],\n",
        "[157,317,52],\n",
        "[131,311,16],\n",
        "[166,400,34],\n",
        "[160,337,31],\n",
        "[186,423,42],\n",
        "[125,334,26],\n",
        "[218,533,16],\n",
        "[146,344,22]])\n",
        "#here we are calling for our datapoints\n",
        "x = data[:,0]\n",
        "y  =data[:,1]\n",
        "si = data[:,2]\n",
        "def likelihood(x, y, c,w0):\n",
        "    # we are calculating our likelihood\n",
        "    L =np.prod(1/np.sqrt(2*np.pi*c))*np.exp(-0.5 * np.sum((y - w0[1:2]*x-w0[:1])**2/c**2))\n",
        "    return L\n",
        "\n",
        "# initializing the points\n",
        "def metropolis(M):\n",
        "  posterior =[]\n",
        "  X_2 =[213,1.2]\n",
        "  L0 =likelihood(x,y,si,X_2)\n",
        "  #posterior =[213,1.2]\n",
        "  posterior.append(X_2)\n",
        "  for i in range(M):\n",
        "    h = np.random.normal(loc=0,scale =0.5,size =2) # step function\n",
        "    X_1 = X_2 + h # This is our candidate\n",
        "    L =likelihood(x,y,si,X_1) # likelihood of the candidate\n",
        "\n",
        "    # The rejection region\n",
        "    ratio =L/L0\n",
        "    u = np.random.uniform(0,1) # unifrom distribution\n",
        "    if u <= ratio:\n",
        "      X_2 = X_1 #accept\n",
        "      posterior.append(X_1)\n",
        "    elif u > ratio:\n",
        "      #X_2 =X_2 # reject\n",
        "      posterior.append(X_2)\n",
        "  #posterior = posterior[np.where(posterior > 0)] # get rid of initial zeros that don't contribute to distribution\n",
        "  return posterior\n",
        "x = metropolis(100000)\n",
        "m =np.row_stack(x)\n",
        "plt.scatter(m[:,0], m[:,1]) #scatter points\n",
        "plt.xlabel('x')\n",
        "plt.ylabel('y')\n",
        "plt.title('scatter of the sampled points')"
      ],
      "execution_count": 11,
      "outputs": [
        {
          "output_type": "execute_result",
          "data": {
            "text/plain": [
              "Text(0.5, 1.0, 'scatter of the sampled points')"
            ]
          },
          "metadata": {},
          "execution_count": 11
        },
        {
          "output_type": "display_data",
          "data": {
            "image/png": "[encoded data removed]",
            "text/plain": [
              "<Figure size 432x288 with 1 Axes>"
            ]
          },
          "metadata": {
            "needs_background": "light"
          }
        }
      ]
    },
    {
      "cell_type": "code",
      "metadata": {
        "colab": {
          "base_uri": "https://localhost:8080/",
          "height": 312
        },
        "id": "lYXtfb7XAJpT",
        "outputId": "4644a053-0d5a-4128-8d0b-8dfb1414602c"
      },
      "source": [
        "plt.hist(xx[:,0], bins=20)\n",
        "plt.xlabel('x')\n",
        "plt.ylabel('y')\n",
        "plt.title('histogram of the posterior distribution')"
      ],
      "execution_count": null,
      "outputs": [
        {
          "output_type": "execute_result",
          "data": {
            "text/plain": [
              "Text(0.5, 1.0, 'histogram of the posterior distribution')"
            ]
          },
          "metadata": {},
          "execution_count": 20
        },
        {
          "output_type": "display_data",
          "data": {
            "image/png": "[encoded data removed]",
            "text/plain": [
              "<Figure size 432x288 with 1 Axes>"
            ]
          },
          "metadata": {
            "needs_background": "light"
          }
        }
      ]
    },
    {
      "cell_type": "code",
      "metadata": {
        "id": "T9bwB3f9vWni",
        "colab": {
          "base_uri": "https://localhost:8080/",
          "height": 312
        },
        "outputId": "c16b2b43-1320-46e3-81bf-4f2dbdf86b08"
      },
      "source": [
        "# 15 datapoints\n",
        "data2 = data[6:,:]\n",
        "x3 = data2[:,0]\n",
        "y3  =data2[:,1]\n",
        "si3 = data2[:,2]\n",
        "\n",
        "def likelihood(x, y, c,w0):\n",
        "    # compute the likelihood \n",
        "    L =np.prod(1/np.sqrt(2*np.pi*c))*np.exp(-0.5 * np.sum((y - w0[1:2]*x-w0[:1])**2/c**2))\n",
        "    return L\n",
        "\n",
        "# initializing the points\n",
        "def metropolis(M):\n",
        "  posterior =[]\n",
        "  X_2 =[54,1]\n",
        "  L0 =likelihood(x3,y3,si3,X_2)\n",
        "  #posterior =[213,1.2]\n",
        "  posterior.append(X_2)\n",
        "  for i in range(M):\n",
        "    h = np.random.normal(loc=0,scale =0.5,size =2) # step function\n",
        "    X_1 = X_2 + h # This is again ourcandidate\n",
        "    L =likelihood(x3,y3,si3,X_1) # likelihood of the candidate\n",
        "    # rejection region\n",
        "    ratio =L/L0\n",
        "    v = np.random.uniform(0,1) #\n",
        "    if v <= ratio:\n",
        "      X_2 = X_1 #accept\n",
        "      posterior.append(X_1)\n",
        "    elif v > ratio:\n",
        "      #X_0 =X_0 # reject\n",
        "      posterior.append(X_2)\n",
        "  #posterior = posterior[np.where(posterior > 0)] # get rid of initial zeros that don't contribute to distribution\n",
        "  return posterior\n",
        "xq = metropolis(100000)\n",
        "n =np.row_stack(xq)\n",
        "plt.scatter(n[:,0], n[:,1]) #scatter points\n",
        "plt.xlabel('x')\n",
        "plt.ylabel('y')\n",
        "plt.title('scatter of the sampled points')"
      ],
      "execution_count": 3,
      "outputs": [
        {
          "output_type": "execute_result",
          "data": {
            "text/plain": [
              "Text(0.5, 1.0, 'scatter of the sampled points')"
            ]
          },
          "metadata": {},
          "execution_count": 3
        },
        {
          "output_type": "display_data",
          "data": {
            "image/png": "[encoded data removed]",
            "text/plain": [
              "<Figure size 432x288 with 1 Axes>"
            ]
          },
          "metadata": {
            "needs_background": "light"
          }
        }
      ]
    },
    {
      "cell_type": "code",
      "metadata": {
        "colab": {
          "base_uri": "https://localhost:8080/",
          "height": 312
        },
        "id": "rTJ1-gsGuwL5",
        "outputId": "7d34d950-2ec1-4a25-cebe-a3e56e04bae2"
      },
      "source": [
        "plt.hist(n[:,0], bins=20)\n",
        "plt.xlabel('x')\n",
        "plt.ylabel('y')\n",
        "plt.title('histogram of the posterior distribution')"
      ],
      "execution_count": 10,
      "outputs": [
        {
          "output_type": "execute_result",
          "data": {
            "text/plain": [
              "Text(0.5, 1.0, 'histogram of the posterior distribution')"
            ]
          },
          "metadata": {},
          "execution_count": 10
        },
        {
          "output_type": "display_data",
          "data": {
            "image/png": "[encoded data removed]",
            "text/plain": [
              "<Figure size 432x288 with 1 Axes>"
            ]
          },
          "metadata": {
            "needs_background": "light"
          }
        }
      ]
    }
  ]
}